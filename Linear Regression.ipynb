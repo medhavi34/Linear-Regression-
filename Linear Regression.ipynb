{
 "cells": [
  {
   "cell_type": "code",
   "execution_count": 10,
   "metadata": {},
   "outputs": [
    {
     "data": {
      "text/plain": [
       "LinearRegression(copy_X=True, fit_intercept=True, n_jobs=None, normalize=False)"
      ]
     },
     "execution_count": 10,
     "metadata": {},
     "output_type": "execute_result"
    }
   ],
   "source": [
    "from sklearn import datasets\n",
    "from sklearn import model_selection\n",
    "from sklearn.linear_model import LinearRegression\n",
    "data = datasets.load_boston()\n",
    "data\n",
    "x = data.data\n",
    "y = data.target\n",
    "X,x,Y,y = model_selection.train_test_split(x,y)\n",
    "alg1 = LinearRegression()\n",
    "alg1.fit(X,Y)"
   ]
  },
  {
   "cell_type": "code",
   "execution_count": 11,
   "metadata": {},
   "outputs": [],
   "source": [
    "y_test = alg1.predict(x)"
   ]
  },
  {
   "cell_type": "code",
   "execution_count": 12,
   "metadata": {},
   "outputs": [
    {
     "data": {
      "image/png": "[encoded data removed]",
      "text/plain": [
       "<Figure size 432x288 with 1 Axes>"
      ]
     },
     "metadata": {
      "needs_background": "light"
     },
     "output_type": "display_data"
    }
   ],
   "source": [
    "import matplotlib.pyplot as plt\n",
    "plt.scatter(y_test, y)\n",
    "plt.show()"
   ]
  },
  {
   "cell_type": "code",
   "execution_count": 4,
   "metadata": {},
   "outputs": [],
   "source": [
    "def fit(x,y):\n",
    "    a = ((x*y).mean())-(x.mean()*y.mean())\n",
    "    b = ((x**2).mean())-(x.mean()**2)\n",
    "    m = a/b\n",
    "    c = y.mean() - m*x.mean()\n",
    "    return m,c"
   ]
  },
  {
   "cell_type": "code",
   "execution_count": 5,
   "metadata": {},
   "outputs": [],
   "source": [
    "def predict(x,m,c):\n",
    "    y_predict = m*x + c\n",
    "    return y_predict"
   ]
  },
  {
   "cell_type": "code",
   "execution_count": 6,
   "metadata": {},
   "outputs": [],
   "source": [
    "def score(Y_pred, Y_test):\n",
    "    u = ((Y_test - Y_pred)**2).sum()\n",
    "    v = ((Y_test - Y_test.mean())**2).sum()\n",
    "    return (1-(u/v))"
   ]
  },
  {
   "cell_type": "code",
   "execution_count": 7,
   "metadata": {},
   "outputs": [
    {
     "data": {
      "text/plain": [
       "0.007920125523747101"
      ]
     },
     "execution_count": 7,
     "metadata": {},
     "output_type": "execute_result"
    }
   ],
   "source": [
    "import numpy as np\n",
    "from sklearn import model_selection\n",
    "x = np.random.randint(20,100,size =(100,1))\n",
    "y = np.random.randint(30,100,size =(100,1)) \n",
    "num = np.arange(0,10,0.1)\n",
    "X_train,X_test, Y_train, Y_test = model_selection.train_test_split(x,y,train_size = 0.3)\n",
    "m,c = fit(X_train,Y_train)\n",
    "Y_predict = predict(X_test, m,c)\n",
    "score(Y_predict,Y_test)"
   ]
  },
  {
   "cell_type": "code",
   "execution_count": 8,
   "metadata": {},
   "outputs": [
    {
     "name": "stdout",
     "output_type": "stream",
     "text": [
      "[[77]\n",
      " [62]\n",
      " [80]\n",
      " [46]\n",
      " [41]\n",
      " [87]\n",
      " [53]\n",
      " [48]\n",
      " [38]\n",
      " [50]\n",
      " [95]\n",
      " [68]\n",
      " [31]\n",
      " [51]\n",
      " [46]\n",
      " [87]\n",
      " [77]\n",
      " [92]\n",
      " [95]\n",
      " [99]\n",
      " [30]\n",
      " [37]\n",
      " [93]\n",
      " [56]\n",
      " [64]\n",
      " [45]\n",
      " [85]\n",
      " [60]\n",
      " [74]\n",
      " [92]\n",
      " [93]\n",
      " [39]\n",
      " [60]\n",
      " [91]\n",
      " [47]\n",
      " [75]\n",
      " [91]\n",
      " [87]\n",
      " [55]\n",
      " [68]\n",
      " [67]\n",
      " [64]\n",
      " [60]\n",
      " [96]\n",
      " [58]\n",
      " [35]\n",
      " [93]\n",
      " [46]\n",
      " [41]\n",
      " [34]\n",
      " [86]\n",
      " [61]\n",
      " [32]\n",
      " [35]\n",
      " [67]\n",
      " [75]\n",
      " [87]\n",
      " [84]\n",
      " [63]\n",
      " [56]\n",
      " [66]\n",
      " [40]\n",
      " [51]\n",
      " [78]\n",
      " [61]\n",
      " [90]\n",
      " [97]\n",
      " [81]\n",
      " [47]\n",
      " [40]] [[64.58946941]\n",
      " [62.86999082]\n",
      " [64.81873323]\n",
      " [63.44315035]\n",
      " [59.20176981]\n",
      " [64.70410132]\n",
      " [65.73578848]\n",
      " [65.27726085]\n",
      " [58.05545075]\n",
      " [59.66029744]\n",
      " [65.39189276]\n",
      " [58.39934647]\n",
      " [61.15051222]\n",
      " [66.0796842 ]\n",
      " [59.66029744]\n",
      " [61.03588031]\n",
      " [64.81873323]\n",
      " [59.54566553]\n",
      " [65.27726085]\n",
      " [64.01630988]\n",
      " [65.73578848]\n",
      " [58.62861028]\n",
      " [63.32851844]\n",
      " [64.47483751]\n",
      " [57.59692312]\n",
      " [61.49440794]\n",
      " [64.13094179]\n",
      " [57.59692312]\n",
      " [59.66029744]\n",
      " [61.60903985]\n",
      " [62.5260951 ]\n",
      " [65.16262894]\n",
      " [61.03588031]\n",
      " [65.27726085]\n",
      " [62.29683128]\n",
      " [58.17008265]\n",
      " [61.26514413]\n",
      " [61.60903985]\n",
      " [62.41146319]\n",
      " [61.26514413]\n",
      " [66.53821182]\n",
      " [58.85787409]\n",
      " [59.0871379 ]\n",
      " [61.83830366]\n",
      " [58.62861028]\n",
      " [60.8066165 ]\n",
      " [63.90167797]\n",
      " [63.09925463]\n",
      " [63.90167797]\n",
      " [65.96505229]\n",
      " [63.55778225]\n",
      " [64.24557369]\n",
      " [57.71155503]\n",
      " [63.32851844]\n",
      " [63.55778225]\n",
      " [64.3602056 ]\n",
      " [60.00419316]\n",
      " [65.85042038]\n",
      " [62.41146319]\n",
      " [60.23345697]\n",
      " [63.44315035]\n",
      " [58.62861028]\n",
      " [60.11882506]\n",
      " [59.77492934]\n",
      " [64.93336513]\n",
      " [61.26514413]\n",
      " [59.77492934]\n",
      " [60.92124841]\n",
      " [58.28471456]\n",
      " [57.59692312]]\n"
     ]
    }
   ],
   "source": [
    "print(Y_test,Y_predict)"
   ]
  },
  {
   "cell_type": "code",
   "execution_count": null,
   "metadata": {},
   "outputs": [],
   "source": []
  }
 ],
 "metadata": {
  "kernelspec": {
   "display_name": "Python 3",
   "language": "python",
   "name": "python3"
  },
  "language_info": {
   "codemirror_mode": {
    "name": "ipython",
    "version": 3
   },
   "file_extension": ".py",
   "mimetype": "text/x-python",
   "name": "python",
   "nbconvert_exporter": "python",
   "pygments_lexer": "ipython3",
   "version": "3.7.3"
  }
 },
 "nbformat": 4,
 "nbformat_minor": 2
}
